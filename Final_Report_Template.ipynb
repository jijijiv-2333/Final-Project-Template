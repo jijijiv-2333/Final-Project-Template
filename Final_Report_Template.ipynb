{
 "cells": [
  {
   "cell_type": "code",
   "execution_count": 1,
   "id": "2743e421-15b6-42d6-a618-1e7ed2da610a",
   "metadata": {
    "tags": []
   },
   "outputs": [],
   "source": [
    "# Import necessary packages here, e.g.\n",
    "import numpy as np               # for numerical operations\n",
    "import matplotlib.pyplot as plt  # for plotting\n",
    "\n",
    "# Add other packages as needed, for example:\n",
    "# import pandas as pd            # for data manipulation"
   ]
  },
  {
   "cell_type": "markdown",
   "id": "3ef08846-924c-4a43-9d9a-caf69a320591",
   "metadata": {},
   "source": [
    "# The exactl El Niño influence on the production rate in the west coast of south America\n",
    "*(Replace \"Descriptive Project Title\" above with the actual title of your project)*\n",
    "\n",
    "**Yiyang Liu**  \n",
    "*(Replace \"Your Name\" with your full name)*  \n",
    "\n",
    "OCEAN 215 Final Project  \n",
    "Autumn 2024"
   ]
  },
  {
   "cell_type": "markdown",
   "id": "cbb3b484-c0d1-4154-9b8e-940f05b63a53",
   "metadata": {},
   "source": [
    "## Introduction\n",
    "\n",
    "<!-- Include your motivation and any background information needed to understand your research question and data analysis. Clearly state your research question and hypothesis. -->\n",
    "\n",
    "*(Write 1–2 paragraphs below)*  \n",
    "\n",
    "Your introduction here.\n",
    "El Niño has been a very well known and influential oceanographic phenomenon, its root cause is the weakening of trade winds. \n",
    "During El Niño, trade winds weaken. Warm water is pushed back east, this results in surface warming of the east tropical Pacific Ocean, weakening the Humboldt current (4~45 degreed south), thus weaking the upwelling of the west coast of South America.\n",
    "\n",
    "Without the nutrients from the deep, there are fewer phytoplankton off the coast.\n",
    "The El Niño would result a decline in phytoplankton population as well as the primary production rate over the west coast of South America due to the lack of nutrient that was due to the weaken in up welling caused by the increasing temperature."
   ]
  },
  {
   "attachments": {
    "6ef1dfd4-6aae-4e74-9deb-b6b06d3de9be.png": {
     "image/png": "[encoded data removed]"
    }
   },
   "cell_type": "markdown",
   "id": "32255486-9337-4438-bde6-2142bd2a39ea",
   "metadata": {},
   "source": [
    "## Data sources:\n",
    "<!-- List each data source used in your project. For each dataset, include: \n",
    "     - Where you accessed it from \n",
    "     - Date you accessed/downloaded it \n",
    "     - Data collection process\n",
    "     - Relevant variables (including unit) \n",
    "     - Spatial and temporal coverage and resolution \n",
    "     - Description of any obstacles or challenges you faced in obtaining the dataset\n",
    "     - URL to the dataset if available -->\n",
    "\n",
    "- {Dataset 1}\n",
    "  - Downloaded from {data source} GHRSST Level 4 AVHRR_OI Global Blended Sea Surface Temperature Analysis (GDS2) from NCEI\n",
    "  - Data collection process: By satellite, ocean surface\n",
    "  - Relevant variables included: \n",
    "    - {Variable 1 including units} Sea surface temperature unit K\n",
    "  - Spatial coverage and resolution: {coverage}, {resolution} global, 0.1-degree grid\n",
    "  - Obstacles to data access: Data for each day had to be accessed individually so I had to acquire 32 data files and merge them together using pandas\n",
    "  - Temporal coverage and resolution: {coverage}, {resolution} all-time and on-going\n",
    "  - URL to dataset: https://simonscmap.com/catalog/datasets/Near_Real_Time_SST_AVHRR_OI \n",
    "<br>\n",
    "- {Dataset 2}\n",
    "    - Downloaded from {data source} Global Ocean Biogeochemistry Analysis and Forecast(attachment:6ef1dfd4-6aae-4e74-9deb-b6b06d3de9be.png)\n",
    "  - Data collection process: By satellite, ocean surface\n",
    "  - Relevant variables included: \n",
    "    - {Variable 1 including units} CHL unit mg/m^3\n",
    "  - Spatial coverage and resolution: {coverage}, {resolution} global, 0.5-degree grid\n",
    "  - Obstacles to data access: hard to graph it into animation\n",
    "  - Temporal coverage and resolution: {coverage}, {resolution}  2011-2019\n",
    "  - URL to dataset: https://data.marine.copernicus.eu/product/GLOBAL_ANALYSISFORECAST_BGC_001_028/description\n",
    "<br>"
   ]
  },
  {
   "cell_type": "markdown",
   "id": "efd639fc-f10d-45bc-a4c1-0c28a130a437",
   "metadata": {},
   "source": [
    "## 1. {Section 1 Title}  \n",
    "*(Replace \"Section 1 Title\" with something meaningful, e.g., \"Analyzing Seasonal Temperature Trends\")* \n",
    "\n",
    "<!-- In this cell, introduction the data set(s) you are working with, specify which aspect of your research question this section addresses, and describe the figure you will produce. -->\n",
    "\n",
    "Short introduction to this section here."
   ]
  },
  {
   "cell_type": "code",
   "execution_count": 2,
   "id": "d823871a-1bf7-465d-906f-67c63325f48a",
   "metadata": {
    "tags": []
   },
   "outputs": [],
   "source": [
    "# load data file(s)\n",
    "import numpy as np\n",
    "import pandas as pd\n",
    "import xarray as xr\n",
    "import os \n",
    "import matplotlib.pyplot as plt\n",
    "import pycmap\n",
    "import cartopy.crs as ccrs\n",
    "import cartopy.feature as cfeature\n",
    "from cartopy.mpl.gridliner import LONGITUDE_FORMATTER, LATITUDE_FORMATTER\n",
    "\n",
    "path = \"MUR-JPL-L4-GLOB-v4.1_4.1-20241204_043114/\"\n",
    "fl_list_tem = os.listdir(path) \n",
    "print(fl_list_tem)\n",
    "\n",
    "average_temperature_all = []\n",
    "for deployment in fl_list_tem:\n",
    "     ds = xr.open_dataset('MUR-JPL-L4-GLOB-v4.1_4.1-20241204_043114/'+deployment)\n",
    "     average_temperature = ds['analysed_sst'].mean()\n",
    "     average_temperature_all.append(average_temperature)\n",
    "# as part of commenting your code throughout this section, discuss any problems you encountered and how you solved them\n",
    "#Data for each day had to be accessed individually so I had to acquire 32 data files and merge them together using pandas, it was huge and need to be organized"
   ]
  },
  {
   "cell_type": "code",
   "execution_count": 3,
   "id": "100039bc-51c5-43e6-bb00-bfbf637ca585",
   "metadata": {
    "tags": []
   },
   "outputs": [],
   "source": [
    "# perform data cleaning steps\n",
    "print(average_temperature_all)\n",
    "max_tem = max(average_temperature_all)\n",
    "print(max_tem)\n",
    "filepath = 'MUR-JPL-L4-GLOB-v4.1_4.1-20241204_043114/20151001090000-JPL-L4_GHRSST-SSTfnd-MUR-GLOB-v02.0-fv04.1.nc'\n",
    "read_file = xr.open_dataset(filepath)\n",
    "cleaned_read_file = read_file.dropna(dim='lat', how='all')\n",
    "cleaned_read_file = read_file.dropna(dim='lon', how='all')\n",
    "\n",
    "# Coarsen the latitude and longitude dimensions to 0.5 degree resolution\n",
    "cleaned_read_file = cleaned_read_file.coarsen(lat=50, lon=50, boundary='trim').mean() #the boundary parameter in the coarsen method determines how to handle the edges of the data\n",
    "# trim: Drops the excess entries that do not fit into the window size, which can be useful for avoiding errors or unnecessary padding\n",
    "\n",
    "# Define the range of latitude and longitude\n",
    "lat_range = slice(-30, -5)\n",
    "lon_range = slice(-110, -70)\n",
    "\n",
    "# Select the data within the specified range\n",
    "cleaned_read_file = cleaned_read_file.sel(lat=lat_range, lon=lon_range)\n",
    "display(cleaned_read_file)\n",
    "\n",
    "\n",
    "\n",
    "filepath_normal = 'MUR-JPL-L4-GLOB-v4.1_4.1-20131001-20131031/20131001090000-JPL-L4_GHRSST-SSTfnd-MUR-GLOB-v02.0-fv04.1.nc'\n",
    "read_file_normal = xr.open_dataset(filepath_normal)\n",
    "display(read_file_normal)\n",
    "\n",
    "cleaned_read_file_normal = read_file_normal.dropna(dim='lat', how='all')\n",
    "\n",
    "# Coarsen the latitude and longitude dimensions to 0.5 degree resolution\n",
    "cleaned_read_file_normal = cleaned_read_file_normal.coarsen(lat=50, lon=50, boundary='trim').mean() #the boundary parameter in the coarsen method determines how to handle the edges of the data\n",
    "# trim: Drops the excess entries that do not fit into the window size, which can be useful for avoiding errors or unnecessary padding\n",
    "cleaned_read_file_normal = read_file_normal.dropna(dim='lon', how='all')\n",
    "\n",
    "# Define the range of latitude and longitude\n",
    "lat_range_normal = slice(-30, -5)\n",
    "lon_range_normal = slice(-110, -70)\n",
    "\n",
    "# Select the data within the specified range\n",
    "cleaned_read_file_normal = cleaned_read_file_normal.sel(lat=lat_range_normal, lon=lon_range_normal)\n",
    "display(cleaned_read_file_normal)\n"
   ]
  },
  {
   "cell_type": "code",
   "execution_count": 4,
   "id": "5f0c56ad-c1c6-4253-9f50-2f97a5396b89",
   "metadata": {
    "tags": []
   },
   "outputs": [],
   "source": [
    "# perform data analysis\n",
    "# Calculate the average temperature along the longitude dimension\n",
    "avg_temp_per_lat = cleaned_read_file['analysed_sst'].mean(dim='lon')\n",
    "\n",
    "# Find the index of the latitude with the highest average temperature\n",
    "max_temp_index = avg_temp_per_lat.argmax().item()\n",
    "\n",
    "# Get the latitude value with the highest average temperature\n",
    "max_temp_lat = avg_temp_per_lat['lat'].isel(lat=max_temp_index).item()\n",
    "max_temp_value = avg_temp_per_lat.isel(lat=max_temp_index).item()\n",
    "\n",
    "display(max_temp_lat)\n",
    "display(max_temp_value)\n",
    "selected_lat = cleaned_read_file.sel(lat=max_temp_lat, method='nearest')\n",
    "display(selected_lat)\n",
    "\n",
    "\n",
    "# the normal compared data\n",
    "avg_temp_per_lat_normal = cleaned_read_file_normal['analysed_sst'].mean(dim='lon')\n",
    "\n",
    "max_temp_index_normal = avg_temp_per_lat_normal.argmax().item()\n",
    "\n",
    "max_temp_lat_normal = avg_temp_per_lat_normal['lat'].isel(lat=max_temp_index_normal).item()\n",
    "max_temp_value_normal = avg_temp_per_lat_normal.isel(lat=max_temp_index_normal).item()\n",
    "\n",
    "display(max_temp_lat)\n",
    "display(max_temp_value)\n",
    "\n",
    "selected_lat_normal = cleaned_read_file_normal.sel(lat=max_temp_lat_normal, method='nearest')"
   ]
  },
  {
   "cell_type": "code",
   "execution_count": 5,
   "id": "187fdf0a-b93a-4bd6-941f-25005b94d0d1",
   "metadata": {
    "tags": []
   },
   "outputs": [],
   "source": [
    "# make and display the first figure\n",
    "lon = selected_lat['lon']\n",
    "tem = selected_lat['analysed_sst']\n",
    "\n",
    "lon_normal = selected_lat_normal['lon']\n",
    "tem_normal = selected_lat_normal['analysed_sst']\n",
    "display(selected_lat_normal)\n",
    "\n",
    "plt.figure(figsize=(10, 6))\n",
    "plt.plot(lon, tem.isel(time=0), label='SST',marker='o')\n",
    "plt.plot(lon_normal, tem_normal.isel(time=0), label='SST_normal',marker='.',color='lightskyblue')\n",
    "\n",
    "plt.xlabel('Longitude')\n",
    "plt.ylabel('SST K')\n",
    "plt.title('SST vs Longitude')\n",
    "plt.legend()\n",
    "plt.grid(color='gray', linestyle='--', linewidth=0.5)\n",
    "\n",
    "# Show the plot\n",
    "plt.show()"
   ]
  },
  {
   "cell_type": "markdown",
   "id": "6e5091d8-ebb4-4835-bed4-4257d53afa0b",
   "metadata": {},
   "source": [
    "<!-- Describe how this figure helps address your research question. What patterns or insights can you observe? -->\n",
    "**Figure 1 Caption:** Your caption here.\n",
    "This figure helps to fill up the blank in the temperature of the referance graph, and shows how much the temperature increased compared to the normal."
   ]
  },
  {
   "cell_type": "markdown",
   "id": "ba4015f5-8d5f-445c-bee8-b2e480826935",
   "metadata": {},
   "source": [
    "## 2. {Section 2 Title}  \n",
    "\n",
    "<!-- In the introduction below, specify the data set(s) you are working with in this section, which aspect of your research question this section addresses, and the figure you will produce -->\n",
    "\n",
    "Short introduction to this section here."
   ]
  },
  {
   "cell_type": "code",
   "execution_count": 6,
   "id": "60f4144c-a89c-4877-b2b1-2199810fd996",
   "metadata": {
    "tags": []
   },
   "outputs": [],
   "source": [
    "# if a new dataset, load data and perform data cleaning steps\n",
    "# otherwise, continue to data analysis and figure creation\n",
    "# Import packages\n",
    "import numpy as np\n",
    "import pandas as pd\n",
    "import xarray as xr\n",
    "import matplotlib.pyplot as plt\n",
    "import pycmap\n",
    "\n",
    "import cartopy.crs as ccrs\n",
    "import cartopy.feature as cfeature\n",
    "from cartopy.mpl.gridliner import LONGITUDE_FORMATTER, LATITUDE_FORMATTER"
   ]
  },
  {
   "cell_type": "code",
   "execution_count": 7,
   "id": "def0e6cf-2973-491d-9934-d8cd44cfcbd0",
   "metadata": {
    "tags": []
   },
   "outputs": [],
   "source": [
    "# perform data analysis\n",
    "key = \"91445b4d-7eb0-45d4-ab1a-23ddc877977d\"                     \n",
    "#call the CMAP API using your unique key\n",
    "api = pycmap.API(token=key)\n",
    "# call the API to pull data into a dataframe named pisces\n",
    "pisces=api.query(\n",
    "         '''\n",
    "         SELECT [time], lat, lon, depth, CHL, NO3 FROM tblPisces_NRT\n",
    "         WHERE \n",
    "         [time] BETWEEN '2015-01-01' AND '2015-12-31' AND \n",
    "         lat BETWEEN -35 AND -5 AND \n",
    "         lon BETWEEN -110 AND -70 AND\n",
    "         depth BETWEEN 0 AND 1\n",
    "         '''\n",
    "         ) \n",
    "# create a pandas dataframe and convert to xarray\n",
    "df_rows = pd.DataFrame(pisces).set_index([\"time\",  \"lat\", \"lon\", \"depth\"])  # since this is a gridded data, it is useful to transorm from a table into an array \n",
    "ds = xr.Dataset.from_dataframe(df_rows)\n",
    "display(ds)\n",
    "# select only depth index and average across time for chl and no3\n",
    "chl = ds['CHL'].isel(depth=0)#.mean('time')  ####### taking an average in time, once we have the data in xarray format\n",
    "no3 = ds['NO3'].isel(depth=0)#.mean('time')\n",
    "display(chl)\n",
    "del pisces"
   ]
  },
  {
   "cell_type": "code",
   "execution_count": 8,
   "id": "6d43f6bd-4f98-45bd-a7ba-6b46873f4811",
   "metadata": {
    "tags": []
   },
   "outputs": [],
   "source": [
    "# make and display figure\n",
    "# Extract data dimensions\n",
    "lat = chl['lat'].values\n",
    "lon = chl['lon'].values\n",
    "chl_vals = chl.values\n",
    "no3_vals = no3.values\n",
    "time = chl['time'].values\n",
    "\n",
    "# Define the region needed\n",
    "region_extent = [-110, -70, -30, -5]  # [lon_min, lon_max, lat_min, lat_max]\n",
    "\n",
    "assert len(chl_vals.shape) == 3, \"chl_vals must be 3D (time, lat, lon)\"\n",
    "assert len(time) == chl_vals.shape[0], \"Number of time steps must match\"\n",
    "\n",
    "# Function to initialize the map\n",
    "def init():\n",
    "    ax.set_extent(region_extent, crs=ccrs.PlateCarree())  # Set map zoom\n",
    "    ax.coastlines(resolution='110m', color='black')\n",
    "    ax.add_feature(cfeature.LAND, color='lemonchiffon')\n",
    "    pcolormesh = ax.pcolormesh(\n",
    "        lon, lat, chl_vals[0, :, :],\n",
    "        cmap=\"Greens\",\n",
    "        transform=ccrs.PlateCarree(),\n",
    "        norm=LogNorm(vmin=0.01, vmax=1),\n",
    "    )\n",
    "    # Add gridlines and labels\n",
    "    gl = ax.gridlines(crs=ccrs.PlateCarree(), draw_labels=True, linewidth=1, color='gray', alpha=0.5, linestyle='--')\n",
    "    gl.top_labels = False\n",
    "    gl.right_labels = False\n",
    "    gl.xlocator = mticker.FixedLocator([-110, -100, -90, -80, -70])\n",
    "    gl.ylocator = mticker.FixedLocator([-30, -20, -10, -5])\n",
    "    gl.xlabel_style = {'size': 10}\n",
    "    gl.ylabel_style = {'size': 10}\n",
    "\n",
    "    # Add title and colorbar once\n",
    "    plt.title(f'Chlorophyll Map - Time: {str(time[0])[:10]}', fontsize=14)\n",
    "    cbar = plt.colorbar(pcolormesh, ax=ax, orientation='vertical', shrink=0.9, pad=0.05)\n",
    "    cbar.set_label('Chlorophyll Concentration (mg/m³)', fontsize=12)\n",
    "    return pcolormesh,\n",
    "\n",
    "# Function to update the map for each frame\n",
    "def update(frame):\n",
    "    ax.clear()\n",
    "    ax.set_extent(region_extent, crs=ccrs.PlateCarree())  # Set map zoom\n",
    "    ax.coastlines(resolution='110m', color='black')\n",
    "    ax.add_feature(cfeature.LAND, color='lemonchiffon')\n",
    "    pcolormesh = ax.pcolormesh(\n",
    "        lon, lat, chl_vals[frame, :, :],\n",
    "        cmap=\"Greens\",\n",
    "        transform=ccrs.PlateCarree(),\n",
    "        norm=LogNorm(vmin=0.01, vmax=1),\n",
    "    )\n",
    "    gl = ax.gridlines(crs=ccrs.PlateCarree(), draw_labels=True, linewidth=1, color='gray', alpha=0.5, linestyle='--')\n",
    "    gl.top_labels = False\n",
    "    gl.right_labels = False\n",
    "    gl.xlocator = mticker.FixedLocator([-110, -100, -90, -80, -70])\n",
    "    gl.ylocator = mticker.FixedLocator([-30, -20, -10, -5])\n",
    "    gl.xlabel_style = {'size': 10}\n",
    "    gl.ylabel_style = {'size': 10}\n",
    "\n",
    "    # Update title\n",
    "    plt.title(f'Chlorophyll Map - Time: {str(time[frame])[:10]}', fontsize=14)\n",
    "    return pcolormesh,\n",
    "\n",
    "# Set up the figure and axis with adjusted layout\n",
    "fig = plt.figure(figsize=(9, 5))  # Adjust figure size to balance map and colorbar\n",
    "ax = plt.axes(projection=ccrs.PlateCarree())\n",
    "plt.subplots_adjust(right=0.85)  # Leave space for the colorbar on the right\n",
    "\n",
    "# Create animation\n",
    "ani = FuncAnimation(fig, update, frames=len(time), init_func=init, blit=False)\n",
    "\n",
    "# Save the animation as a GIF\n",
    "ani.save('chlorophyll_animation_custom_lat_lon_2013.gif', writer='pillow', fps=10) #writer='pillow' tells matplotlib to use the Pillow library for creating an animated GIF\n",
    "plt.close()\n",
    "\n",
    "\n",
    "##### ploting the nitrate map \n",
    "\n",
    "assert len(no3_vals.shape) == 3, \"chl_vals must be 3D (time, lat, lon)\"\n",
    "assert len(time) == no3_vals.shape[0],  \"Number of time steps must match\"\n",
    "\n",
    "# Function to initialize the map\n",
    "def init():\n",
    "    global cbar\n",
    "    ax.set_extent(region_extent, crs=ccrs.PlateCarree())  # Set map zoom\n",
    "    ax.coastlines(resolution='110m', color='black')\n",
    "    ax.add_feature(cfeature.LAND, color='lemonchiffon')\n",
    "    pcolormesh = ax.pcolormesh(\n",
    "        lon2d, lat2d, no3_vals[0, :, :],\n",
    "        cmap=\"Reds\",\n",
    "        transform=ccrs.PlateCarree(),\n",
    "        norm=LogNorm(vmin=1, vmax=40),\n",
    "    )\n",
    "    # Add gridlines with customized labels\n",
    "    gl = ax.gridlines(crs=ccrs.PlateCarree(), draw_labels=True, linewidth=1, color='gray', alpha=0.5, linestyle='--')\n",
    "    gl.top_labels = False\n",
    "    gl.right_labels = False\n",
    "    gl.xlocator = mticker.FixedLocator([-110, -100, -90, -80, -70])\n",
    "    gl.ylocator = mticker.FixedLocator([-30, -20, -10, -5])\n",
    "    gl.xlabel_style = {'size': 10}\n",
    "    gl.ylabel_style = {'size': 10}\n",
    "\n",
    "    # Add title and colorbar once\n",
    "    plt.title(f'NO3 Map - Time: {str(time[0])[:10]}', fontsize=14)\n",
    "    cbar = plt.colorbar(pcolormesh, ax=ax, orientation='vertical', shrink=0.9, pad=0.05)\n",
    "    cbar.set_label('NO3 Concentration (mg/m³)', fontsize=12)\n",
    "    return pcolormesh,\n",
    "\n",
    "# Function to update the map for each frame\n",
    "def update(frame):\n",
    "    ax.clear()\n",
    "    ax.set_extent(region_extent, crs=ccrs.PlateCarree())  # Set map zoom\n",
    "    ax.coastlines(resolution='110m', color='black')\n",
    "    ax.add_feature(cfeature.LAND, color='lemonchiffon')\n",
    "    pcolormesh = ax.pcolormesh(\n",
    "        lon2d, lat2d, no3_vals[frame, :, :],\n",
    "        cmap=\"Reds\",\n",
    "        transform=ccrs.PlateCarree(),\n",
    "        norm=LogNorm(vmin=1, vmax=20),\n",
    "    )\n",
    "    # Add gridlines with customized label\n",
    "    gl = ax.gridlines(crs=ccrs.PlateCarree(), draw_labels=True, linewidth=1, color='gray', alpha=0.5, linestyle='--')\n",
    "    gl.top_labels = False\n",
    "    gl.right_labels = False\n",
    "    gl.xlocator = mticker.FixedLocator([-110, -100, -90, -80, -70])\n",
    "    gl.ylocator = mticker.FixedLocator([-30, -20, -10, -5])\n",
    "    gl.xlabel_style = {'size': 10}\n",
    "    gl.ylabel_style = {'size': 10}\n",
    "\n",
    "    # Update title\n",
    "    plt.title(f'NO3 Map - Time: {str(time[frame])[:10]}', fontsize=14)\n",
    "    return pcolormesh,\n",
    "\n",
    "# Set up the figure and axis with adjusted layout\n",
    "fig = plt.figure(figsize=(9, 5))  # Adjust figure size to balance map and colorbar\n",
    "ax = plt.axes(projection=ccrs.PlateCarree())\n",
    "plt.subplots_adjust(right=0.85)  # Leave space for the colorbar on the right\n",
    "\n",
    "# Create animation\n",
    "ani = FuncAnimation(\n",
    "    fig, update, frames=len(time), init_func=init, blit=False\n",
    ")\n",
    "\n",
    "# Save the animation as a GIF\n",
    "ani.save('NO3_animation_custom_lat_lon_2015.gif', writer='pillow', fps=10)\n",
    "plt.close()"
   ]
  },
  {
   "cell_type": "markdown",
   "id": "cc2b8df7-25ff-4ab3-9c52-f3c687b2d2e8",
   "metadata": {},
   "source": [
    "<!-- Describe how this figure helps address your research question. What patterns or insights can you observe? -->\n",
    "**Figure 2 Caption:** Your caption here.\n",
    "shows the change of chlorophyll and nitrate over time. The chlorophyll and nitrate decreased obviously in the near coastline, but seems to result in a more spread-out in the ocean, a wider and more average distribution."
   ]
  },
  {
   "cell_type": "markdown",
   "id": "1b8ea48e-f244-4a23-b289-e2ffc08d4ed3",
   "metadata": {},
   "source": [
    "## 3. {Section 3 Title}  \n",
    "\n",
    "<!-- In the introduction below, specify the data set(s) you are working with in this section, which aspect of your research question this section addresses, and the figure you will produce -->\n",
    "\n",
    "Short introduction to this section here."
   ]
  },
  {
   "cell_type": "code",
   "execution_count": 9,
   "id": "94239082-de2e-4786-9522-1c81bed1c0b4",
   "metadata": {
    "tags": []
   },
   "outputs": [],
   "source": [
    "# if a new dataset, load data and perform data cleaning steps\n",
    "# otherwise, continue to data analysis and figure creation"
   ]
  },
  {
   "cell_type": "code",
   "execution_count": 10,
   "id": "63ccab2e-6597-4d3f-a7c0-eaedbea9c345",
   "metadata": {
    "tags": []
   },
   "outputs": [],
   "source": [
    "# perform data analysis"
   ]
  },
  {
   "cell_type": "code",
   "execution_count": 11,
   "id": "b28f2e82-8955-4fb4-81ff-56c8ef2dc075",
   "metadata": {
    "tags": []
   },
   "outputs": [],
   "source": [
    "# make and display figure"
   ]
  },
  {
   "cell_type": "markdown",
   "id": "d2006079-2a51-4951-b22e-2496389b2cdb",
   "metadata": {},
   "source": [
    "<!-- Describe how this figure helps address your research question. What patterns or insights can you observe? -->\n",
    "**Figure 3 Caption:** Your caption here."
   ]
  },
  {
   "cell_type": "markdown",
   "id": "bf714377-641b-450d-a411-c16753ba2368",
   "metadata": {},
   "source": [
    "## Discussion\n",
    "**Interpretation of Results:**  *(Write ~1 paragraph below)*\n",
    "<!-- Summarize what you learned from each data analysis section/figure. Discuss key insights and conclusions regarding your research question. Do your results support or contradict your hypothesis? -->\n",
    "    In time of El Niño, weaker Humboldt current and weaker upwelling seems to result in a more spread-out nutrient thus more spread-out phytoplankton distribution. \tThe population decreased obviously in the near coastline, but hard to tell whether the phytoplankton or the primary production decreased or not in a larger scale. Reaulting a wider and more average distribution.\n",
    "\n",
    "**Limitations and Future Work:**  *(Write ~1 paragraph below)*\n",
    "<!-- Identify limitations in your analysis. Discuss any factors that may have impacted the validity or reliability of your results (e.g., data quality, sample size, assumptions). -->\n",
    "<!-- What next steps could you or another researcher take to continue investigating this research question? Suggest ideas for further research, data collection, or alternative methodologies that could enhance understanding of the topic. -->\n",
    "Bould be better if do the difference value of the chlorfill between normal and el neio time and plot that difference value, better showing the relavent difference."
   ]
  },
  {
   "cell_type": "markdown",
   "id": "e9c30d77-0f2d-4320-bf3b-e9e053b6a8ec",
   "metadata": {},
   "source": [
    "## References  \n",
    "\n",
    "*Cite all papers, websites, or other resources you referenced in your project. Use a consistent citation style (e.g., APA, MLA, Chicago).*\n",
    "\n",
    "1. **Author(s).** (Year). *Title of the work*. Publisher. URL (if applicable)  \n",
    "\n",
    "3. **Website Name.** (Date accessed). *Title of the webpage*. URL  \n",
    "(1).NOAA National Centers for Environmental Information. 2020. Daily L4 Optimally Interpolated SST (OISST) In situ and AVHRR Analysis. Ver. 2.1. PO.DAAC, CA, USA. Dataset accessed [YYYY-MM-DD] at https://doi.org/10.5067/GHAAO-4BC21\n",
    "(2).Joiner, J., Y. Yoshida, P. Koehler, C. Frankenberg, and N.C. Parazoo. 2023. L2 Daily Solar-Induced Fluorescence (SIF) from MetOp-A GOME-2, 2007-2018, V2. ORNL DAAC, Oak Ridge, Tennessee, USA. https://doi.org/10.3334/ORNLDAAC/2292\n",
    "\n",
    "*Continue listing additional references as needed.*"
   ]
  },
  {
   "cell_type": "code",
   "execution_count": null,
   "id": "ba40b89b-2bfe-470a-8cf9-7d52e4424927",
   "metadata": {},
   "outputs": [],
   "source": []
  }
 ],
 "metadata": {
  "kernelspec": {
   "display_name": "Python 3 (ipykernel)",
   "language": "python",
   "name": "python3"
  },
  "language_info": {
   "codemirror_mode": {
    "name": "ipython",
    "version": 3
   },
   "file_extension": ".py",
   "mimetype": "text/x-python",
   "name": "python",
   "nbconvert_exporter": "python",
   "pygments_lexer": "ipython3",
   "version": "3.10.10"
  }
 },
 "nbformat": 4,
 "nbformat_minor": 5
}
